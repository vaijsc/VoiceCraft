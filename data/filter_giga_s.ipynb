{
 "cells": [
  {
   "cell_type": "code",
   "execution_count": 1,
   "metadata": {},
   "outputs": [],
   "source": [
    "import pandas as pd"
   ]
  },
  {
   "cell_type": "code",
   "execution_count": 3,
   "metadata": {},
   "outputs": [
    {
     "data": {
      "text/html": [
       "<div>\n",
       "<style scoped>\n",
       "    .dataframe tbody tr th:only-of-type {\n",
       "        vertical-align: middle;\n",
       "    }\n",
       "\n",
       "    .dataframe tbody tr th {\n",
       "        vertical-align: top;\n",
       "    }\n",
       "\n",
       "    .dataframe thead th {\n",
       "        text-align: right;\n",
       "    }\n",
       "</style>\n",
       "<table border=\"1\" class=\"dataframe\">\n",
       "  <thead>\n",
       "    <tr style=\"text-align: right;\">\n",
       "      <th></th>\n",
       "      <th>segment_id</th>\n",
       "      <th>path</th>\n",
       "      <th>transcript</th>\n",
       "      <th>speaker</th>\n",
       "      <th>duration</th>\n",
       "      <th>original_full_path</th>\n",
       "    </tr>\n",
       "  </thead>\n",
       "  <tbody>\n",
       "    <tr>\n",
       "      <th>0</th>\n",
       "      <td>YOU0000000315_S0000660</td>\n",
       "      <td>/home/thivt1/data/datasets/gigaspeech/extracte...</td>\n",
       "      <td>AS THEY'RE LEAVING &lt;COMMA&gt; CAN KASH PULL ZAHRA...</td>\n",
       "      <td>NaN</td>\n",
       "      <td>3.180176</td>\n",
       "      <td>audio/youtube/P0004/YOU0000000315.opus</td>\n",
       "    </tr>\n",
       "    <tr>\n",
       "      <th>1</th>\n",
       "      <td>AUD0000001043_S0000775</td>\n",
       "      <td>/home/thivt1/data/datasets/gigaspeech/extracte...</td>\n",
       "      <td>SIX TOMATOES &lt;PERIOD&gt;</td>\n",
       "      <td>NaN</td>\n",
       "      <td>1.300049</td>\n",
       "      <td>audio/audiobook/P0011/AUD0000001043.opus</td>\n",
       "    </tr>\n",
       "    <tr>\n",
       "      <th>2</th>\n",
       "      <td>AUD0000001043_S0000942</td>\n",
       "      <td>/home/thivt1/data/datasets/gigaspeech/extracte...</td>\n",
       "      <td>AND SOMETHING BROUGHT BACK RESTORED FROM THE R...</td>\n",
       "      <td>NaN</td>\n",
       "      <td>4.109863</td>\n",
       "      <td>audio/audiobook/P0011/AUD0000001043.opus</td>\n",
       "    </tr>\n",
       "    <tr>\n",
       "      <th>3</th>\n",
       "      <td>YOU0000000299_S0000629</td>\n",
       "      <td>/home/thivt1/data/datasets/gigaspeech/extracte...</td>\n",
       "      <td>TO HELP SCREEN READER USERS IN THE MIDST OF DI...</td>\n",
       "      <td>NaN</td>\n",
       "      <td>4.030029</td>\n",
       "      <td>audio/youtube/P0003/YOU0000000299.opus</td>\n",
       "    </tr>\n",
       "    <tr>\n",
       "      <th>4</th>\n",
       "      <td>AUD0000000468_S0000084</td>\n",
       "      <td>/home/thivt1/data/datasets/gigaspeech/extracte...</td>\n",
       "      <td>FOR ALICE HAD READ SEVERAL NICE LITTLE STORIES...</td>\n",
       "      <td>NaN</td>\n",
       "      <td>8.859985</td>\n",
       "      <td>audio/audiobook/P0005/AUD0000000468.opus</td>\n",
       "    </tr>\n",
       "  </tbody>\n",
       "</table>\n",
       "</div>"
      ],
      "text/plain": [
       "               segment_id                                               path  \\\n",
       "0  YOU0000000315_S0000660  /home/thivt1/data/datasets/gigaspeech/extracte...   \n",
       "1  AUD0000001043_S0000775  /home/thivt1/data/datasets/gigaspeech/extracte...   \n",
       "2  AUD0000001043_S0000942  /home/thivt1/data/datasets/gigaspeech/extracte...   \n",
       "3  YOU0000000299_S0000629  /home/thivt1/data/datasets/gigaspeech/extracte...   \n",
       "4  AUD0000000468_S0000084  /home/thivt1/data/datasets/gigaspeech/extracte...   \n",
       "\n",
       "                                          transcript  speaker  duration  \\\n",
       "0  AS THEY'RE LEAVING <COMMA> CAN KASH PULL ZAHRA...      NaN  3.180176   \n",
       "1                              SIX TOMATOES <PERIOD>      NaN  1.300049   \n",
       "2  AND SOMETHING BROUGHT BACK RESTORED FROM THE R...      NaN  4.109863   \n",
       "3  TO HELP SCREEN READER USERS IN THE MIDST OF DI...      NaN  4.030029   \n",
       "4  FOR ALICE HAD READ SEVERAL NICE LITTLE STORIES...      NaN  8.859985   \n",
       "\n",
       "                         original_full_path  \n",
       "0    audio/youtube/P0004/YOU0000000315.opus  \n",
       "1  audio/audiobook/P0011/AUD0000001043.opus  \n",
       "2  audio/audiobook/P0011/AUD0000001043.opus  \n",
       "3    audio/youtube/P0003/YOU0000000299.opus  \n",
       "4  audio/audiobook/P0005/AUD0000000468.opus  "
      ]
     },
     "execution_count": 3,
     "metadata": {},
     "output_type": "execute_result"
    }
   ],
   "source": [
    "df = pd.read_csv(\"full_gigaspeech_s.csv\")\n",
    "df.head()"
   ]
  },
  {
   "cell_type": "code",
   "execution_count": 4,
   "metadata": {},
   "outputs": [
    {
     "name": "stdout",
     "output_type": "stream",
     "text": [
      "<class 'pandas.core.frame.DataFrame'>\n",
      "RangeIndex: 230068 entries, 0 to 230067\n",
      "Data columns (total 6 columns):\n",
      " #   Column              Non-Null Count   Dtype  \n",
      "---  ------              --------------   -----  \n",
      " 0   segment_id          230068 non-null  object \n",
      " 1   path                230068 non-null  object \n",
      " 2   transcript          230068 non-null  object \n",
      " 3   speaker             0 non-null       float64\n",
      " 4   duration            230068 non-null  float64\n",
      " 5   original_full_path  230068 non-null  object \n",
      "dtypes: float64(2), object(4)\n",
      "memory usage: 10.5+ MB\n"
     ]
    }
   ],
   "source": [
    "df.info()"
   ]
  },
  {
   "cell_type": "markdown",
   "metadata": {},
   "source": [
    "### can we consider original_full_path as speaker?\n",
    "no"
   ]
  },
  {
   "cell_type": "code",
   "execution_count": 5,
   "metadata": {},
   "outputs": [
    {
     "data": {
      "text/plain": [
       "original_full_path\n",
       "audio/youtube/P0002/YOU0000000171.opus      5684\n",
       "audio/youtube/P0031/YOU0000003048.opus      3070\n",
       "audio/audiobook/P0014/AUD0000001383.opus    3056\n",
       "audio/audiobook/P0018/AUD0000001784.opus    2983\n",
       "audio/youtube/P0055/YOU0000005458.opus      2447\n",
       "                                            ... \n",
       "audio/podcast/P0024/POD0000002321.opus         1\n",
       "audio/youtube/P0035/YOU0000003416.opus         1\n",
       "audio/podcast/P0022/POD0000002145.opus         1\n",
       "audio/podcast/P0016/POD0000001549.opus         1\n",
       "audio/youtube/P0022/YOU0000002169.opus         1\n",
       "Name: count, Length: 1416, dtype: int64"
      ]
     },
     "execution_count": 5,
     "metadata": {},
     "output_type": "execute_result"
    }
   ],
   "source": [
    "# list unique values of original_full_path \n",
    "df['original_full_path'].value_counts()"
   ]
  },
  {
   "cell_type": "code",
   "execution_count": 15,
   "metadata": {},
   "outputs": [
    {
     "data": {
      "text/html": [
       "<div>\n",
       "<style scoped>\n",
       "    .dataframe tbody tr th:only-of-type {\n",
       "        vertical-align: middle;\n",
       "    }\n",
       "\n",
       "    .dataframe tbody tr th {\n",
       "        vertical-align: top;\n",
       "    }\n",
       "\n",
       "    .dataframe thead th {\n",
       "        text-align: right;\n",
       "    }\n",
       "</style>\n",
       "<table border=\"1\" class=\"dataframe\">\n",
       "  <thead>\n",
       "    <tr style=\"text-align: right;\">\n",
       "      <th></th>\n",
       "      <th>segment_id</th>\n",
       "      <th>path</th>\n",
       "      <th>transcript</th>\n",
       "      <th>speaker</th>\n",
       "      <th>duration</th>\n",
       "      <th>original_full_path</th>\n",
       "    </tr>\n",
       "  </thead>\n",
       "  <tbody>\n",
       "    <tr>\n",
       "      <th>9453</th>\n",
       "      <td>YOU0000000171_S0005097</td>\n",
       "      <td>/home/thivt1/data/datasets/gigaspeech/extracted/c36615a4165790005d69419b2e71b02bc4b262f830bf23cfb2376ef183df4586/s_chunks_0000/YOU0000000171_S0005097.wav</td>\n",
       "      <td>NOW FOR THE STAIRS &lt;EXCLAMATIONPOINT&gt;</td>\n",
       "      <td>NaN</td>\n",
       "      <td>1.500000</td>\n",
       "      <td>audio/youtube/P0002/YOU0000000171.opus</td>\n",
       "    </tr>\n",
       "    <tr>\n",
       "      <th>9530</th>\n",
       "      <td>YOU0000000171_S0002719</td>\n",
       "      <td>/home/thivt1/data/datasets/gigaspeech/extracted/c36615a4165790005d69419b2e71b02bc4b262f830bf23cfb2376ef183df4586/s_chunks_0000/YOU0000000171_S0002719.wav</td>\n",
       "      <td>SHE SAID IN THE PAUSE THAT FOLLOWED &lt;PERIOD&gt;</td>\n",
       "      <td>NaN</td>\n",
       "      <td>2.000000</td>\n",
       "      <td>audio/youtube/P0002/YOU0000000171.opus</td>\n",
       "    </tr>\n",
       "    <tr>\n",
       "      <th>9540</th>\n",
       "      <td>YOU0000000171_S0001188</td>\n",
       "      <td>/home/thivt1/data/datasets/gigaspeech/extracted/c36615a4165790005d69419b2e71b02bc4b262f830bf23cfb2376ef183df4586/s_chunks_0000/YOU0000000171_S0001188.wav</td>\n",
       "      <td>THANK YOU &lt;COMMA&gt;</td>\n",
       "      <td>NaN</td>\n",
       "      <td>1.139648</td>\n",
       "      <td>audio/youtube/P0002/YOU0000000171.opus</td>\n",
       "    </tr>\n",
       "    <tr>\n",
       "      <th>9605</th>\n",
       "      <td>YOU0000000171_S0002963</td>\n",
       "      <td>/home/thivt1/data/datasets/gigaspeech/extracted/c36615a4165790005d69419b2e71b02bc4b262f830bf23cfb2376ef183df4586/s_chunks_0000/YOU0000000171_S0002963.wav</td>\n",
       "      <td>YOU ARE QUIET TODAY &lt;COMMA&gt;</td>\n",
       "      <td>NaN</td>\n",
       "      <td>2.200195</td>\n",
       "      <td>audio/youtube/P0002/YOU0000000171.opus</td>\n",
       "    </tr>\n",
       "    <tr>\n",
       "      <th>9666</th>\n",
       "      <td>YOU0000000171_S0000865</td>\n",
       "      <td>/home/thivt1/data/datasets/gigaspeech/extracted/c36615a4165790005d69419b2e71b02bc4b262f830bf23cfb2376ef183df4586/s_chunks_0000/YOU0000000171_S0000865.wav</td>\n",
       "      <td>PARSONS DISAPPEARED BEHIND THE PARTITION FOR A MOMENT AND REAPPEARED INSTANTLY &lt;COMMA&gt;</td>\n",
       "      <td>NaN</td>\n",
       "      <td>5.340088</td>\n",
       "      <td>audio/youtube/P0002/YOU0000000171.opus</td>\n",
       "    </tr>\n",
       "    <tr>\n",
       "      <th>9707</th>\n",
       "      <td>YOU0000000171_S0003462</td>\n",
       "      <td>/home/thivt1/data/datasets/gigaspeech/extracted/c36615a4165790005d69419b2e71b02bc4b262f830bf23cfb2376ef183df4586/s_chunks_0000/YOU0000000171_S0003462.wav</td>\n",
       "      <td>ONE MORNING &lt;COMMA&gt;</td>\n",
       "      <td>NaN</td>\n",
       "      <td>1.000000</td>\n",
       "      <td>audio/youtube/P0002/YOU0000000171.opus</td>\n",
       "    </tr>\n",
       "    <tr>\n",
       "      <th>9724</th>\n",
       "      <td>YOU0000000171_S0007022</td>\n",
       "      <td>/home/thivt1/data/datasets/gigaspeech/extracted/c36615a4165790005d69419b2e71b02bc4b262f830bf23cfb2376ef183df4586/s_chunks_0000/YOU0000000171_S0007022.wav</td>\n",
       "      <td>FEEBLE'S MORE THE WORD &lt;PERIOD&gt;</td>\n",
       "      <td>NaN</td>\n",
       "      <td>1.701172</td>\n",
       "      <td>audio/youtube/P0002/YOU0000000171.opus</td>\n",
       "    </tr>\n",
       "    <tr>\n",
       "      <th>9747</th>\n",
       "      <td>YOU0000000171_S0000282</td>\n",
       "      <td>/home/thivt1/data/datasets/gigaspeech/extracted/c36615a4165790005d69419b2e71b02bc4b262f830bf23cfb2376ef183df4586/s_chunks_0000/YOU0000000171_S0000282.wav</td>\n",
       "      <td>AND RECONCILED WHOLE NATIONS TO THE CHRISTIAN FAITH &lt;PERIOD&gt;</td>\n",
       "      <td>NaN</td>\n",
       "      <td>3.689941</td>\n",
       "      <td>audio/youtube/P0002/YOU0000000171.opus</td>\n",
       "    </tr>\n",
       "    <tr>\n",
       "      <th>9775</th>\n",
       "      <td>YOU0000000171_S0005785</td>\n",
       "      <td>/home/thivt1/data/datasets/gigaspeech/extracted/c36615a4165790005d69419b2e71b02bc4b262f830bf23cfb2376ef183df4586/s_chunks_0000/YOU0000000171_S0005785.wav</td>\n",
       "      <td>THOSE UNSUBSTANTIAL WALLS THAT HOLD SO MANY OF US SECURELY PRISONED FROM THE CRADLE TO THE GRAVE &lt;COMMA&gt;</td>\n",
       "      <td>NaN</td>\n",
       "      <td>7.201172</td>\n",
       "      <td>audio/youtube/P0002/YOU0000000171.opus</td>\n",
       "    </tr>\n",
       "    <tr>\n",
       "      <th>9852</th>\n",
       "      <td>YOU0000000171_S0003454</td>\n",
       "      <td>/home/thivt1/data/datasets/gigaspeech/extracted/c36615a4165790005d69419b2e71b02bc4b262f830bf23cfb2376ef183df4586/s_chunks_0000/YOU0000000171_S0003454.wav</td>\n",
       "      <td>AND FOUND IT VERY STIRRING AND REFRESHING &lt;PERIOD&gt;</td>\n",
       "      <td>NaN</td>\n",
       "      <td>2.599609</td>\n",
       "      <td>audio/youtube/P0002/YOU0000000171.opus</td>\n",
       "    </tr>\n",
       "  </tbody>\n",
       "</table>\n",
       "</div>"
      ],
      "text/plain": [
       "                  segment_id  \\\n",
       "9453  YOU0000000171_S0005097   \n",
       "9530  YOU0000000171_S0002719   \n",
       "9540  YOU0000000171_S0001188   \n",
       "9605  YOU0000000171_S0002963   \n",
       "9666  YOU0000000171_S0000865   \n",
       "9707  YOU0000000171_S0003462   \n",
       "9724  YOU0000000171_S0007022   \n",
       "9747  YOU0000000171_S0000282   \n",
       "9775  YOU0000000171_S0005785   \n",
       "9852  YOU0000000171_S0003454   \n",
       "\n",
       "                                                                                                                                                           path  \\\n",
       "9453  /home/thivt1/data/datasets/gigaspeech/extracted/c36615a4165790005d69419b2e71b02bc4b262f830bf23cfb2376ef183df4586/s_chunks_0000/YOU0000000171_S0005097.wav   \n",
       "9530  /home/thivt1/data/datasets/gigaspeech/extracted/c36615a4165790005d69419b2e71b02bc4b262f830bf23cfb2376ef183df4586/s_chunks_0000/YOU0000000171_S0002719.wav   \n",
       "9540  /home/thivt1/data/datasets/gigaspeech/extracted/c36615a4165790005d69419b2e71b02bc4b262f830bf23cfb2376ef183df4586/s_chunks_0000/YOU0000000171_S0001188.wav   \n",
       "9605  /home/thivt1/data/datasets/gigaspeech/extracted/c36615a4165790005d69419b2e71b02bc4b262f830bf23cfb2376ef183df4586/s_chunks_0000/YOU0000000171_S0002963.wav   \n",
       "9666  /home/thivt1/data/datasets/gigaspeech/extracted/c36615a4165790005d69419b2e71b02bc4b262f830bf23cfb2376ef183df4586/s_chunks_0000/YOU0000000171_S0000865.wav   \n",
       "9707  /home/thivt1/data/datasets/gigaspeech/extracted/c36615a4165790005d69419b2e71b02bc4b262f830bf23cfb2376ef183df4586/s_chunks_0000/YOU0000000171_S0003462.wav   \n",
       "9724  /home/thivt1/data/datasets/gigaspeech/extracted/c36615a4165790005d69419b2e71b02bc4b262f830bf23cfb2376ef183df4586/s_chunks_0000/YOU0000000171_S0007022.wav   \n",
       "9747  /home/thivt1/data/datasets/gigaspeech/extracted/c36615a4165790005d69419b2e71b02bc4b262f830bf23cfb2376ef183df4586/s_chunks_0000/YOU0000000171_S0000282.wav   \n",
       "9775  /home/thivt1/data/datasets/gigaspeech/extracted/c36615a4165790005d69419b2e71b02bc4b262f830bf23cfb2376ef183df4586/s_chunks_0000/YOU0000000171_S0005785.wav   \n",
       "9852  /home/thivt1/data/datasets/gigaspeech/extracted/c36615a4165790005d69419b2e71b02bc4b262f830bf23cfb2376ef183df4586/s_chunks_0000/YOU0000000171_S0003454.wav   \n",
       "\n",
       "                                                                                                    transcript  \\\n",
       "9453                                                                     NOW FOR THE STAIRS <EXCLAMATIONPOINT>   \n",
       "9530                                                              SHE SAID IN THE PAUSE THAT FOLLOWED <PERIOD>   \n",
       "9540                                                                                         THANK YOU <COMMA>   \n",
       "9605                                                                               YOU ARE QUIET TODAY <COMMA>   \n",
       "9666                    PARSONS DISAPPEARED BEHIND THE PARTITION FOR A MOMENT AND REAPPEARED INSTANTLY <COMMA>   \n",
       "9707                                                                                       ONE MORNING <COMMA>   \n",
       "9724                                                                           FEEBLE'S MORE THE WORD <PERIOD>   \n",
       "9747                                              AND RECONCILED WHOLE NATIONS TO THE CHRISTIAN FAITH <PERIOD>   \n",
       "9775  THOSE UNSUBSTANTIAL WALLS THAT HOLD SO MANY OF US SECURELY PRISONED FROM THE CRADLE TO THE GRAVE <COMMA>   \n",
       "9852                                                        AND FOUND IT VERY STIRRING AND REFRESHING <PERIOD>   \n",
       "\n",
       "      speaker  duration                      original_full_path  \n",
       "9453      NaN  1.500000  audio/youtube/P0002/YOU0000000171.opus  \n",
       "9530      NaN  2.000000  audio/youtube/P0002/YOU0000000171.opus  \n",
       "9540      NaN  1.139648  audio/youtube/P0002/YOU0000000171.opus  \n",
       "9605      NaN  2.200195  audio/youtube/P0002/YOU0000000171.opus  \n",
       "9666      NaN  5.340088  audio/youtube/P0002/YOU0000000171.opus  \n",
       "9707      NaN  1.000000  audio/youtube/P0002/YOU0000000171.opus  \n",
       "9724      NaN  1.701172  audio/youtube/P0002/YOU0000000171.opus  \n",
       "9747      NaN  3.689941  audio/youtube/P0002/YOU0000000171.opus  \n",
       "9775      NaN  7.201172  audio/youtube/P0002/YOU0000000171.opus  \n",
       "9852      NaN  2.599609  audio/youtube/P0002/YOU0000000171.opus  "
      ]
     },
     "execution_count": 15,
     "metadata": {},
     "output_type": "execute_result"
    }
   ],
   "source": [
    "# get the first 10 paths \n",
    "pd.set_option('display.max_colwidth', None)\n",
    "df[df['original_full_path'] == 'audio/youtube/P0002/YOU0000000171.opus'][:10]"
   ]
  },
  {
   "cell_type": "markdown",
   "metadata": {},
   "source": [
    "### sum duration"
   ]
  },
  {
   "cell_type": "code",
   "execution_count": 16,
   "metadata": {},
   "outputs": [
    {
     "data": {
      "text/plain": [
       "249.98192529386944"
      ]
     },
     "execution_count": 16,
     "metadata": {},
     "output_type": "execute_result"
    }
   ],
   "source": [
    "df['duration'].sum() / 3600"
   ]
  },
  {
   "cell_type": "markdown",
   "metadata": {},
   "source": [
    "### filter by duration\n",
    "only keep audio with duration > min_dur and < max_dur"
   ]
  },
  {
   "cell_type": "code",
   "execution_count": 20,
   "metadata": {},
   "outputs": [
    {
     "data": {
      "text/plain": [
       "226.59477616005475"
      ]
     },
     "execution_count": 20,
     "metadata": {},
     "output_type": "execute_result"
    }
   ],
   "source": [
    "min_dur = 2\n",
    "max_dur = 20\n",
    "filtered_df = df[(df['duration'] > min_dur) & (df['duration'] < max_dur)]\n",
    "filtered_df['duration'].sum() / 3600"
   ]
  },
  {
   "cell_type": "code",
   "execution_count": 24,
   "metadata": {},
   "outputs": [
    {
     "data": {
      "image/png": "[encoded data removed]",
      "text/plain": [
       "<Figure size 800x600 with 1 Axes>"
      ]
     },
     "metadata": {},
     "output_type": "display_data"
    }
   ],
   "source": [
    "import seaborn as sns\n",
    "import matplotlib.pyplot as plt\n",
    "\n",
    "plt.figure(figsize=(8, 6))\n",
    "sns.histplot(filtered_df['duration'], bins=19, kde=True)\n",
    "plt.title('Distribution of Durations in Filtered DataFrame')\n",
    "plt.xlabel('Duration (seconds)')\n",
    "plt.ylabel('Frequency')\n",
    "plt.grid(True)\n",
    "plt.show()"
   ]
  },
  {
   "cell_type": "markdown",
   "metadata": {},
   "source": [
    "### create subset of filterd_df"
   ]
  },
  {
   "cell_type": "code",
   "execution_count": 25,
   "metadata": {},
   "outputs": [
    {
     "name": "stderr",
     "output_type": "stream",
     "text": [
      "/tmp/ipykernel_53168/3334283528.py:8: SettingWithCopyWarning: \n",
      "A value is trying to be set on a copy of a slice from a DataFrame.\n",
      "Try using .loc[row_indexer,col_indexer] = value instead\n",
      "\n",
      "See the caveats in the documentation: https://pandas.pydata.org/pandas-docs/stable/user_guide/indexing.html#returning-a-view-versus-a-copy\n",
      "  filtered_df['duration_bin'] = pd.cut(filtered_df['duration'], bins, right=False)\n",
      "/tmp/ipykernel_53168/3334283528.py:21: FutureWarning: The behavior of DataFrame concatenation with empty or all-NA entries is deprecated. In a future version, this will no longer exclude empty or all-NA columns when determining the result dtypes. To retain the old behavior, exclude the relevant entries before the concat operation.\n",
      "  subset_df = pd.concat([subset_df, bin_samples])\n",
      "/tmp/ipykernel_53168/3334283528.py:21: FutureWarning: The behavior of DataFrame concatenation with empty or all-NA entries is deprecated. In a future version, this will no longer exclude empty or all-NA columns when determining the result dtypes. To retain the old behavior, exclude the relevant entries before the concat operation.\n",
      "  subset_df = pd.concat([subset_df, bin_samples])\n"
     ]
    },
    {
     "name": "stdout",
     "output_type": "stream",
     "text": [
      "Total duration of the subset: 113.30097357802921 hours\n"
     ]
    }
   ],
   "source": [
    "import numpy as np\n",
    "\n",
    "total_duration = filtered_df['duration'].sum()\n",
    "desired_duration = total_duration / 2\n",
    "\n",
    "# Create bins for the duration ranges\n",
    "bins = np.arange(2, 21, 1)  # Duration ranges from 2 to 20 seconds\n",
    "filtered_df['duration_bin'] = pd.cut(filtered_df['duration'], bins, right=False)\n",
    "\n",
    "# Calculate the number of samples needed in each duration range\n",
    "counts = filtered_df['duration_bin'].value_counts().sort_index()\n",
    "required_counts = (counts / 2).astype(int)\n",
    "\n",
    "# Initialize an empty DataFrame for the subset\n",
    "subset_df = pd.DataFrame(columns=filtered_df.columns)\n",
    "\n",
    "# Randomly sample the required number of audio files from each duration range\n",
    "for duration_bin, count in required_counts.items():\n",
    "    if count > 0:\n",
    "        bin_samples = filtered_df[filtered_df['duration_bin'] == duration_bin].sample(count, random_state=42)\n",
    "        subset_df = pd.concat([subset_df, bin_samples])\n",
    "\n",
    "# Remove the 'duration_bin' column from the final subset\n",
    "subset_df = subset_df.drop(columns=['duration_bin'])\n",
    "\n",
    "# Verify the total duration of the subset\n",
    "subset_duration = subset_df['duration'].sum() / 3600\n",
    "print(f\"Total duration of the subset: {subset_duration} hours\")"
   ]
  },
  {
   "cell_type": "code",
   "execution_count": 26,
   "metadata": {},
   "outputs": [
    {
     "data": {
      "image/png": "[encoded data removed]",
      "text/plain": [
       "<Figure size 800x600 with 1 Axes>"
      ]
     },
     "metadata": {},
     "output_type": "display_data"
    }
   ],
   "source": [
    "# make sure the dist of subset_df is kept the same as filtered_df\n",
    "plt.figure(figsize=(8, 6))\n",
    "sns.histplot(subset_df['duration'], bins=19, kde=True)\n",
    "plt.title('Distribution of Durations in Filtered DataFrame')\n",
    "plt.xlabel('Duration (seconds)')\n",
    "plt.ylabel('Frequency')\n",
    "plt.grid(True)\n",
    "plt.show()"
   ]
  },
  {
   "cell_type": "code",
   "execution_count": 28,
   "metadata": {},
   "outputs": [],
   "source": [
    "# save the damn dataset\n",
    "subset_df.to_csv('subset_giga_s.csv', index=False)"
   ]
  }
 ],
 "metadata": {
  "kernelspec": {
   "display_name": "mfa2",
   "language": "python",
   "name": "python3"
  },
  "language_info": {
   "codemirror_mode": {
    "name": "ipython",
    "version": 3
   },
   "file_extension": ".py",
   "mimetype": "text/x-python",
   "name": "python",
   "nbconvert_exporter": "python",
   "pygments_lexer": "ipython3",
   "version": "3.9.19"
  }
 },
 "nbformat": 4,
 "nbformat_minor": 2
}
